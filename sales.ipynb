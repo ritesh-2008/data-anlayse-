{
 "cells": [
  {
   "metadata": {},
   "cell_type": "markdown",
   "source": "# Alaysing  sales data",
   "id": "9402d05d29725080"
  },
  {
   "cell_type": "code",
   "id": "initial_id",
   "metadata": {
    "collapsed": true,
    "ExecuteTime": {
     "end_time": "2025-03-24T13:06:05.379109Z",
     "start_time": "2025-03-24T13:05:26.452397Z"
    }
   },
   "source": [
    "import pandas as pd\n",
    "import matplotlib.pyplot as plt\n",
    "import numpy as np\n",
    "from sklearn.impute import SimpleImputer"
   ],
   "outputs": [],
   "execution_count": 2
  },
  {
   "metadata": {},
   "cell_type": "markdown",
   "source": "## cleaning the data",
   "id": "75460a341402cb1e"
  },
  {
   "metadata": {
    "ExecuteTime": {
     "end_time": "2025-03-24T13:06:05.494469Z",
     "start_time": "2025-03-24T13:06:05.419065Z"
    }
   },
   "cell_type": "code",
   "source": [
    "data=pd.read_csv('data.csv')\n",
    "data"
   ],
   "id": "ea7c905a252e2fff",
   "outputs": [
    {
     "data": {
      "text/plain": [
       "   Order ID        Date Customer Name   Product  Quantity  Price  Total Sales\n",
       "0      1001  2025-01-15      John Doe    Laptop       2.0   1200       2400.0\n",
       "1      1002  2025-01-16    Jane Smith     Phone       1.0    800        800.0\n",
       "2      1003  2025-01-17   Bob Johnson    Tablet       NaN    300          NaN\n",
       "3      1004  2025-01-18   Alice Brown    Laptop       3.0   1200       3600.0\n",
       "4      1005  2025-01-19           NaN   Monitor       5.0    250       1250.0\n",
       "5      1006  2025-01-20     Chris Lee     Phone     999.0    800     799200.0\n",
       "6      1007     invalid   Sarah Davis  Keyboard       2.0    -50       -100.0"
      ],
      "text/html": [
       "<div>\n",
       "<style scoped>\n",
       "    .dataframe tbody tr th:only-of-type {\n",
       "        vertical-align: middle;\n",
       "    }\n",
       "\n",
       "    .dataframe tbody tr th {\n",
       "        vertical-align: top;\n",
       "    }\n",
       "\n",
       "    .dataframe thead th {\n",
       "        text-align: right;\n",
       "    }\n",
       "</style>\n",
       "<table border=\"1\" class=\"dataframe\">\n",
       "  <thead>\n",
       "    <tr style=\"text-align: right;\">\n",
       "      <th></th>\n",
       "      <th>Order ID</th>\n",
       "      <th>Date</th>\n",
       "      <th>Customer Name</th>\n",
       "      <th>Product</th>\n",
       "      <th>Quantity</th>\n",
       "      <th>Price</th>\n",
       "      <th>Total Sales</th>\n",
       "    </tr>\n",
       "  </thead>\n",
       "  <tbody>\n",
       "    <tr>\n",
       "      <th>0</th>\n",
       "      <td>1001</td>\n",
       "      <td>2025-01-15</td>\n",
       "      <td>John Doe</td>\n",
       "      <td>Laptop</td>\n",
       "      <td>2.0</td>\n",
       "      <td>1200</td>\n",
       "      <td>2400.0</td>\n",
       "    </tr>\n",
       "    <tr>\n",
       "      <th>1</th>\n",
       "      <td>1002</td>\n",
       "      <td>2025-01-16</td>\n",
       "      <td>Jane Smith</td>\n",
       "      <td>Phone</td>\n",
       "      <td>1.0</td>\n",
       "      <td>800</td>\n",
       "      <td>800.0</td>\n",
       "    </tr>\n",
       "    <tr>\n",
       "      <th>2</th>\n",
       "      <td>1003</td>\n",
       "      <td>2025-01-17</td>\n",
       "      <td>Bob Johnson</td>\n",
       "      <td>Tablet</td>\n",
       "      <td>NaN</td>\n",
       "      <td>300</td>\n",
       "      <td>NaN</td>\n",
       "    </tr>\n",
       "    <tr>\n",
       "      <th>3</th>\n",
       "      <td>1004</td>\n",
       "      <td>2025-01-18</td>\n",
       "      <td>Alice Brown</td>\n",
       "      <td>Laptop</td>\n",
       "      <td>3.0</td>\n",
       "      <td>1200</td>\n",
       "      <td>3600.0</td>\n",
       "    </tr>\n",
       "    <tr>\n",
       "      <th>4</th>\n",
       "      <td>1005</td>\n",
       "      <td>2025-01-19</td>\n",
       "      <td>NaN</td>\n",
       "      <td>Monitor</td>\n",
       "      <td>5.0</td>\n",
       "      <td>250</td>\n",
       "      <td>1250.0</td>\n",
       "    </tr>\n",
       "    <tr>\n",
       "      <th>5</th>\n",
       "      <td>1006</td>\n",
       "      <td>2025-01-20</td>\n",
       "      <td>Chris Lee</td>\n",
       "      <td>Phone</td>\n",
       "      <td>999.0</td>\n",
       "      <td>800</td>\n",
       "      <td>799200.0</td>\n",
       "    </tr>\n",
       "    <tr>\n",
       "      <th>6</th>\n",
       "      <td>1007</td>\n",
       "      <td>invalid</td>\n",
       "      <td>Sarah Davis</td>\n",
       "      <td>Keyboard</td>\n",
       "      <td>2.0</td>\n",
       "      <td>-50</td>\n",
       "      <td>-100.0</td>\n",
       "    </tr>\n",
       "  </tbody>\n",
       "</table>\n",
       "</div>"
      ]
     },
     "execution_count": 3,
     "metadata": {},
     "output_type": "execute_result"
    }
   ],
   "execution_count": 3
  },
  {
   "metadata": {
    "ExecuteTime": {
     "end_time": "2025-03-24T13:06:05.674324Z",
     "start_time": "2025-03-24T13:06:05.663887Z"
    }
   },
   "cell_type": "code",
   "source": [
    "imputer = SimpleImputer(missing_values=np.nan, strategy='most_frequent')\n",
    "\n",
    "imputer.fit(data.iloc[:, :].values)\n",
    "\n",
    "data.iloc[:, :] = imputer.transform(data.iloc[:, :].values)"
   ],
   "id": "e698b0a55160ad6e",
   "outputs": [],
   "execution_count": 4
  },
  {
   "metadata": {},
   "cell_type": "markdown",
   "source": "## coverting float into integer",
   "id": "cfd534da3678f181"
  },
  {
   "metadata": {
    "ExecuteTime": {
     "end_time": "2025-03-24T13:06:05.868401Z",
     "start_time": "2025-03-24T13:06:05.848570Z"
    }
   },
   "cell_type": "code",
   "source": "data.dtypes",
   "id": "23aadee43f4c5211",
   "outputs": [
    {
     "data": {
      "text/plain": [
       "Order ID           int64\n",
       "Date              object\n",
       "Customer Name     object\n",
       "Product           object\n",
       "Quantity         float64\n",
       "Price              int64\n",
       "Total Sales      float64\n",
       "dtype: object"
      ]
     },
     "execution_count": 5,
     "metadata": {},
     "output_type": "execute_result"
    }
   ],
   "execution_count": 5
  },
  {
   "metadata": {
    "ExecuteTime": {
     "end_time": "2025-03-24T13:06:06.033072Z",
     "start_time": "2025-03-24T13:06:06.020635Z"
    }
   },
   "cell_type": "code",
   "source": [
    "data['Total Sales']=data['Total Sales'].astype(int)\n",
    "data['Quantity']=data['Quantity'].astype(int)\n"
   ],
   "id": "717463012e9c4901",
   "outputs": [],
   "execution_count": 6
  },
  {
   "metadata": {
    "ExecuteTime": {
     "end_time": "2025-03-24T13:06:06.175389Z",
     "start_time": "2025-03-24T13:06:06.166065Z"
    }
   },
   "cell_type": "code",
   "source": "data.dtypes",
   "id": "49d3ceb7add57ea5",
   "outputs": [
    {
     "data": {
      "text/plain": [
       "Order ID          int64\n",
       "Date             object\n",
       "Customer Name    object\n",
       "Product          object\n",
       "Quantity          int64\n",
       "Price             int64\n",
       "Total Sales       int64\n",
       "dtype: object"
      ]
     },
     "execution_count": 7,
     "metadata": {},
     "output_type": "execute_result"
    }
   ],
   "execution_count": 7
  },
  {
   "metadata": {},
   "cell_type": "markdown",
   "source": "## Handeling negative values",
   "id": "bc00c39f66bc7c44"
  },
  {
   "metadata": {
    "ExecuteTime": {
     "end_time": "2025-03-24T13:07:17.458468Z",
     "start_time": "2025-03-24T13:07:17.446512Z"
    }
   },
   "cell_type": "code",
   "source": [
    "for i in data['Price']:\n",
    "    if i>0:\n",
    "        data['Price']=data['Price'].abs()\n",
    "        data['Total Sales']=data['Quantity']*data['Price']"
   ],
   "id": "26c5ac7d4221a083",
   "outputs": [],
   "execution_count": 12
  },
  {
   "metadata": {},
   "cell_type": "markdown",
   "source": "## ploting total price of product using  bargraph",
   "id": "e82bf222ecac6deb"
  },
  {
   "metadata": {
    "ExecuteTime": {
     "end_time": "2025-03-24T13:07:35.930893Z",
     "start_time": "2025-03-24T13:07:35.772896Z"
    }
   },
   "cell_type": "code",
   "source": [
    "x=(data['Product'])\n",
    "y=data['Price']\n",
    "plt.bar(x,y,color='red')\n",
    "plt.title('Total price of products')\n",
    "plt.xlabel('Product',fontsize=20,fontdict={\"fontstyle\":\"italic\"})\n",
    "plt.ylabel('Price',fontsize=20,fontdict={\"fontstyle\":\"italic\"})\n",
    "\n",
    "plt.show()"
   ],
   "id": "f81a27cb9169bc5",
   "outputs": [
    {
     "data": {
      "text/plain": [
       "<Figure size 640x480 with 1 Axes>"
      ],
      "image/png": "[encoded data removed]"
     },
     "metadata": {},
     "output_type": "display_data"
    }
   ],
   "execution_count": 14
  },
  {
   "metadata": {
    "ExecuteTime": {
     "end_time": "2025-03-24T13:46:51.477580Z",
     "start_time": "2025-03-24T13:46:51.366553Z"
    }
   },
   "cell_type": "code",
   "source": [
    "x=data['Quantity']\n",
    "y=data['Price']\n",
    "plt.scatter(x,y,color='red')\n",
    "plt.show()"
   ],
   "id": "84c61cc77b23dd86",
   "outputs": [
    {
     "data": {
      "text/plain": [
       "<Figure size 640x480 with 1 Axes>"
      ],
      "image/png": "[encoded data removed]"
     },
     "metadata": {},
     "output_type": "display_data"
    }
   ],
   "execution_count": 44
  }
 ],
 "metadata": {
  "kernelspec": {
   "display_name": "Python 3",
   "language": "python",
   "name": "python3"
  },
  "language_info": {
   "codemirror_mode": {
    "name": "ipython",
    "version": 2
   },
   "file_extension": ".py",
   "mimetype": "text/x-python",
   "name": "python",
   "nbconvert_exporter": "python",
   "pygments_lexer": "ipython2",
   "version": "2.7.6"
  }
 },
 "nbformat": 4,
 "nbformat_minor": 5
}
